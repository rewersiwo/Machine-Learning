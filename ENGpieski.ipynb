{
  "nbformat": 4,
  "nbformat_minor": 0,
  "metadata": {
    "colab": {
      "provenance": [],
      "authorship_tag": "ABX9TyPvb7/hSp6J5Dy6Szx135ME",
      "include_colab_link": true
    },
    "kernelspec": {
      "name": "python3",
      "display_name": "Python 3"
    },
    "language_info": {
      "name": "python"
    }
  },
  "cells": [
    {
      "cell_type": "markdown",
      "metadata": {
        "id": "view-in-github",
        "colab_type": "text"
      },
      "source": [
        "<a href=\"https://colab.research.google.com/github/rewersiwo/Machine-Learning/blob/main/ENGpieski.ipynb\" target=\"_parent\"><img src=\"https://colab.research.google.com/assets/colab-badge.svg\" alt=\"Open In Colab\"/></a>"
      ]
    },
    {
      "cell_type": "code",
      "source": [
        "class Dog:\n",
        "    def __init__(self, breed, size, energy_level, friendliness):\n",
        "        self.breed = breed\n",
        "        self.size = size\n",
        "        self.energy_level = energy_level\n",
        "        self.friendliness = friendliness\n",
        "\n",
        "    def __str__(self):\n",
        "        return self.breed\n",
        "\n",
        "\n",
        "def get_user_preferences():\n",
        "    size_preference = input(\"What size of dog are you looking for? (small, medium, large) \")\n",
        "    energy_preference = input(\"How important is energy level for you? (low, medium, high) \")\n",
        "    friendliness_preference = input(\"How important is friendliness for you? (low, medium, high) \")\n",
        "\n",
        "    return size_preference, energy_preference, friendliness_preference\n",
        "\n",
        "\n",
        "def find_matching_breeds(size_preference, energy_preference, friendliness_preference):\n",
        "    dogs = [\n",
        "        Dog(\"Labrador Retriever\", \"large\", \"high\", \"high\"),\n",
        "        Dog(\"German Shepherd\", \"large\", \"high\", \"medium\"),\n",
        "        Dog(\"Golden Retriever\", \"large\", \"high\", \"high\"),\n",
        "        Dog(\"Bulldog\", \"medium\", \"low\", \"high\"),\n",
        "        Dog(\"Poodle\", \"medium\", \"medium\", \"high\"),\n",
        "        Dog(\"Beagle\", \"small\", \"medium\", \"high\"),\n",
        "        Dog(\"French Bulldog\", \"small\", \"low\", \"high\"),\n",
        "        Dog(\"Yorkshire Terrier\", \"small\", \"low\", \"medium\"),\n",
        "    ]\n",
        "\n",
        "    matching_breeds = [dog for dog in dogs if (\n",
        "        (dog.size.lower() == size_preference) or (size_preference == \"any\")) and\n",
        "        (dog.energy_level.lower() == energy_preference or energy_preference == \"any\") and\n",
        "        (dog.friendliness.lower() == friendliness_preference or friendliness_preference == \"any\")\n",
        "    ]\n",
        "\n",
        "    return matching_breeds\n",
        "\n",
        "\n",
        "def main():\n",
        "    size_preference, energy_preference, friendliness_preference = get_user_preferences()\n",
        "    matching_breeds = find_matching_breeds(size_preference, energy_preference, friendliness_preference)\n",
        "\n",
        "    if len(matching_breeds) == 0:\n",
        "        print(\"I'm sorry, we couldn't find a perfect match for you. Here are some alternative options:\")\n",
        "        for dog in dogs:\n",
        "            print(dog.breed)\n",
        "    else:\n",
        "        print(\"Based on your preferences, we recommend the following breeds:\")\n",
        "        for breed in matching_breeds:\n",
        "            print(breed)\n",
        "\n",
        "\n",
        "if __name__ == \"__main__\":\n",
        "    main()"
      ],
      "metadata": {
        "colab": {
          "base_uri": "https://localhost:8080/"
        },
        "id": "d4vTCyKZZDfB",
        "outputId": "486ec890-c212-4026-c9da-e6789b7aebef"
      },
      "execution_count": 5,
      "outputs": [
        {
          "output_type": "stream",
          "name": "stdout",
          "text": [
            "What size of dog are you looking for? (small, medium, large) large\n",
            "How important is energy level for you? (low, medium, high) high\n",
            "How important is friendliness for you? (low, medium, high) high\n",
            "Based on your preferences, we recommend the following breeds:\n",
            "Labrador Retriever\n",
            "Golden Retriever\n"
          ]
        }
      ]
    }
  ]
}