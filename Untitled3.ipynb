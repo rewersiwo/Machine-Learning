{
  "cells": [
    {
      "cell_type": "markdown",
      "metadata": {
        "id": "view-in-github",
        "colab_type": "text"
      },
      "source": [
        "<a href=\"https://colab.research.google.com/github/rewersiwo/Machine-Learning/blob/main/Untitled3.ipynb\" target=\"_parent\"><img src=\"https://colab.research.google.com/assets/colab-badge.svg\" alt=\"Open In Colab\"/></a>"
      ]
    },
    {
      "cell_type": "code",
      "source": [
        "def wyswietl_plansze(plansza):\n",
        "    for row in plansza:\n",
        "        print(' | '.join(row))\n",
        "        print('-' * 9)\n",
        "\n",
        "def sprawdz_wygrana(plansza, znak):\n",
        "    # Sprawdzenie wygranej w wierszach i kolumnach\n",
        "    for i in range(3):\n",
        "        if all(plansza[i][j] == znak for j in range(3)) or all(plansza[j][i] == znak for j in range(3)):\n",
        "            return True\n",
        "\n",
        "    # Sprawdzenie wygranej na przekątnych\n",
        "    if all(plansza[i][i] == znak for i in range(3)) or all(plansza[i][2 - i] == znak for i in range(3)):\n",
        "        return True\n",
        "\n",
        "    return False\n",
        "\n",
        "def gra_w_kolko_krzyzyk():\n",
        "    plansza = [[' ' for _ in range(3)] for _ in range(3)]\n",
        "    aktualny_gracz = 'X'\n",
        "\n",
        "    print(\"Witaj w grze w kółko-krzyżyk!\")\n",
        "\n",
        "    for _ in range(9):\n",
        "        wyswietl_plansze(plansza)\n",
        "\n",
        "        wiersz = int(input(f\"Gracz {aktualny_gracz}, wybierz wiersz (0-2): \"))\n",
        "        kolumna = int(input(f\"Gracz {aktualny_gracz}, wybierz kolumnę (0-2): \"))\n",
        "\n",
        "        if plansza[wiersz][kolumna] == ' ':\n",
        "            plansza[wiersz][kolumna] = aktualny_gracz\n",
        "\n",
        "            if sprawdz_wygrana(plansza, aktualny_gracz):\n",
        "                print(f\"Gracz {aktualny_gracz} wygrywa!\")\n",
        "                break\n",
        "\n",
        "            aktualny_gracz = 'O' if aktualny_gracz == 'X' else 'X'\n",
        "        else:\n",
        "            print(\"To pole jest już zajęte. Wybierz inne.\")\n",
        "\n",
        "    wyswietl_plansze(plansza)\n",
        "    print(\"Gra zakończona!\")\n",
        "\n",
        "# Rozpoczęcie gry\n",
        "gra_w_kolko_krzyzyk()"
      ],
      "metadata": {
        "colab": {
          "base_uri": "https://localhost:8080/"
        },
        "id": "0GnlpKz8tfpp",
        "outputId": "1808c2b6-4eea-4107-edce-c86bb0150e1a"
      },
      "execution_count": null,
      "outputs": [
        {
          "output_type": "stream",
          "name": "stdout",
          "text": [
            "Witaj w grze w kółko-krzyżyk!\n",
            "  |   |  \n",
            "---------\n",
            "  |   |  \n",
            "---------\n",
            "  |   |  \n",
            "---------\n",
            "Gracz X, wybierz wiersz (0-2): 1\n",
            "Gracz X, wybierz kolumnę (0-2): 1\n",
            "  |   |  \n",
            "---------\n",
            "  | X |  \n",
            "---------\n",
            "  |   |  \n",
            "---------\n",
            "Gracz O, wybierz wiersz (0-2): 1\n",
            "Gracz O, wybierz kolumnę (0-2): 0\n",
            "  |   |  \n",
            "---------\n",
            "O | X |  \n",
            "---------\n",
            "  |   |  \n",
            "---------\n"
          ]
        }
      ]
    }
  ],
  "metadata": {
    "colab": {
      "provenance": [],
      "authorship_tag": "ABX9TyOaM6dK6lH9/u2goOJtCcNG",
      "include_colab_link": true
    },
    "kernelspec": {
      "display_name": "Python 3",
      "name": "python3"
    },
    "language_info": {
      "name": "python"
    }
  },
  "nbformat": 4,
  "nbformat_minor": 0
}